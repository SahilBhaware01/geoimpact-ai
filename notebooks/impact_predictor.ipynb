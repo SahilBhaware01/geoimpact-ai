!pip install -q huggingface_hub

from huggingface_hub import login
login(token="")  #  Replace with your actual token

import requests

try:
    response = requests.get("https://huggingface.co", timeout=5)
    if response.status_code == 200:
        print("✅ Internet and Hugging Face are reachable.")
    else:
        print(f"⚠️ Received status code {response.status_code}")
except Exception as e:
    print(f"❌ Cannot reach Hugging Face: {e}")

from transformers import AutoTokenizer, AutoModelForCausalLM, pipeline

model_id = "mistralai/Mistral-7B-Instruct-v0.2"

tokenizer = AutoTokenizer.from_pretrained(model_id, use_auth_token=True)
model = AutoModelForCausalLM.from_pretrained(
    model_id,
    device_map="auto",
    load_in_8bit=True,
    use_auth_token=True
)

generator = pipeline("text-generation", model=model, tokenizer=tokenizer)

from google.colab import files
uploaded = files.upload()  # Upload trump_news.json here

import json

with open("trump_news.json", "r") as f:
    articles = json.load(f)


def build_prompt(announcement, country):
    return f"""
You are a geopolitical expert.

Donald Trump recently made this announcement:
\"{announcement}\"

Analyze what the short-term (0–3 months) economic, political, and societal impact will be on {country}. Be specific and concise.
Return your answer in 3 bullet points with labeled categories.
"""

def predict_impact(article, generator, max_countries=3):
    impacts = {}
    text = article.get("text") or article.get("summary", "")
    countries = article.get("countries", [])[:max_countries]

    for country in countries:
        prompt = build_prompt(text, country)
        output = generator(prompt, max_new_tokens=250, do_sample=True, temperature=0.7)[0]["generated_text"]
        impacts[country] = output.split("Donald Trump recently made this announcement:")[1].strip() if "Donald Trump" in output else output
    return impacts


from tqdm import tqdm

for article in tqdm(articles[:5]):  # limit for testing
    article["impact_predictions"] = predict_impact(article, generator)

with open("trump_impact_predictions.json", "w") as f:
    json.dump(articles, f, indent=2)

from google.colab import files
files.download("trump_impact_predictions.json")
