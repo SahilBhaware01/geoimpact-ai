!pip install diffusers transformers accelerate scipy safetensors --quiet

from diffusers import StableDiffusionPipeline
import torch
from huggingface_hub import login

pipe = StableDiffusionPipeline.from_pretrained(
    "stabilityai/stable-diffusion-2-1",
    torch_dtype=torch.float16,
    revision="fp16"
).to("cuda")

from google.colab import files
uploaded = files.upload()  # Upload trump_news.json here

import json

with open("trump_impact_predictions.json", "r") as f:
    articles = json.load(f)

def summarize_for_visual(article):
    visuals = []
    for country, impact in article.get("impact_predictions", {}).items():
        # You can make this smarter by parsing bullets and keywords
        prompt = f"An infographic illustration of the impact on {country} due to a political announcement by Donald Trump. {impact[:200]}"
        visuals.append((country, prompt))
    return visuals

import os
os.makedirs("impact_visuals", exist_ok=True)

for idx, article in enumerate(articles[:3]):  # limit for demo
    visual_prompts = summarize_for_visual(article)
    for country, prompt in visual_prompts:
        image = pipe(prompt).images[0]
        filename = f"impact_visuals/article{idx+1}_{country.replace(' ', '_')}.png"
        image.save(filename)
        print(f"✅ Saved: {filename}")


from PIL import Image, ImageDraw, ImageFont

def add_title_to_image(image_path, title_text):
    img = Image.open(image_path)
    draw = ImageDraw.Draw(img)
    font = ImageFont.load_default()
    draw.text((10, 10), title_text, fill="white", font=font)
    img.save(image_path)

# Example
add_title_to_image("impact_visuals/article1_USA.png", "Impact on USA")
